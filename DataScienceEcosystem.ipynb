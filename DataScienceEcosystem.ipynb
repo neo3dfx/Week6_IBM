{
 "cells": [
  {
  "cell_type": "markdown",
  "metadata": {},
  "source": [
    "# Data Science Tools and Ecosystem"
  ]
},
  {
   "cell_type": "markdown",
   "metadata": {},
   "source": []
  },
  {
   "cell_type": "markdown",
   "metadata": {},
   "source": [
    "# In this notebook, Data Science Tools and Ecosystem are summarized."
   ]
  },
  {
  "cell_type": "markdown",
  "metadata": {},
  "source": [
    "Some of the popular languages that Data Scientists use are:\n",
    "\n",
    "1. Python\n",
    "2. R\n",
    "3. SQL\n",
    "4. Scala"
  ]
},
  {
  "cell_type": "markdown",
  "metadata": {},
  "source": [
    "Some of the commonly used libraries used by Data Scientists include:\n",
    "\n",
    "1. NumPy\n",
    "2. pandas\n",
    "3. Matplotlib\n",
    "4. Scikit-learn"
  ]
}
,

{
   "cell_type": "markdown",
   "id": "a6e7b854",
   "metadata": {},
   "source": [
    "# Data Science Tools\n",
    "\n",
    "| Category          | Tools                     |\n",
    "|-------------------|---------------------------|\n",
    "| Data Manipulation | Pandas, NumPy             |\n",
    "| Visualization     | Matplotlib, Seaborn       |\n",
    "| Machine Learning  | Scikit-learn, TensorFlow  |\n"
   ]
  },

  {
   "cell_type": "markdown",
   "id": "ab7ad926",
   "metadata": {},
   "source": [
    "\n",
    "\n",
    "# Define variables\n",
    "a = 5\n",
    "b = 3\n",
    "\n",
    "# Addition example\n",
    "addition_result = a + b\n",
    "print(\"Addition:\", addition_result)"
   ]
  },
  {
   "cell_type": "code",
   "execution_count": 3,
   "id": "870e7624",
   "metadata": {},
   "outputs": [
    {
     "name": "stdout",
     "output_type": "stream",
     "text": [
      "Multiplication result: 15\n",
      "Addition result: 8\n"
     ]
    }
   ],
   "source": [
    "\n",
    "a = 5\n",
    "b = 3\n",
    "\n",
    "# Multiply\n",
    "multiply_result = a * b\n",
    "print(\"Multiplication result:\", multiply_result)\n",
    "\n",
    "# Add\n",
    "add_result = a + b\n",
    "print(\"Addition result:\", add_result)\n"
   ]
  },
  {
   "cell_type": "code",
   "execution_count": 4,
   "id": "c0679f7f",
   "metadata": {},
   "outputs": [
    {
     "name": "stdout",
     "output_type": "stream",
     "text": [
      "120 minutes is equal to 2.0 hours\n"
     ]
    }
   ],
   "source": [
    "minutes = 120\n",
    "\n",
    "# Convert minutes to hours\n",
    "hours = minutes / 60\n",
    "\n",
    "print(minutes, \"minutes is equal to\", hours, \"hours\")\n"
   ]
  },
  {
   "cell_type": "markdown",
   "id": "c9ba02a7",
   "metadata": {},
   "source": [
    "# Objectives\n",
    "\n",
    "In this section, we will cover the following objectives:\n",
    "- Introduction to data preprocessing\n",
    "- Exploratory data analysis (EDA)\n",
    "- Feature engineering techniques\n",
    "- Model selection and evaluation\n"
   ]
  },
  {
   "cell_type": "markdown",
   "id": "99aba579",
   "metadata": {},
   "source": [
    "### Author Details\n",
    "\n",
    "**Author:** [Your Name]\n",
    "**Date:** [Date]\n",
    "**Affiliation:** [Your Affiliation or Organization]\n"
   ]
  },
  {
   "cell_type": "code",
   "execution_count": null,
   "id": "68dc7998",
   "metadata": {},
   "outputs": [],
   "source": []
  }
 ],
 "metadata": {
  "kernelspec": {
   "display_name": "Python 3 (ipykernel)",
   "language": "python",
   "name": "python3"
  },
  "language_info": {
   "codemirror_mode": {
    "name": "ipython",
    "version": 3
   },
   "file_extension": ".py",
   "mimetype": "text/x-python",
   "name": "python",
   "nbconvert_exporter": "python",
   "pygments_lexer": "ipython3",
   "version": "3.11.5"
  }
 },
 "nbformat": 4,
 "nbformat_minor": 5
}
